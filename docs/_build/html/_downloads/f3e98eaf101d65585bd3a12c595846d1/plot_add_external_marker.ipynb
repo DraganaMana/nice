{
  "cells": [
    {
      "cell_type": "code",
      "execution_count": null,
      "metadata": {
        "collapsed": false
      },
      "outputs": [],
      "source": [
        "%matplotlib inline"
      ]
    },
    {
      "cell_type": "markdown",
      "metadata": {},
      "source": [
        "\n# Compute external marker\n\n\nHere we compute a marker that is not described [1] and combine it with the\nmarkers supported by nice.\n\nReferences\n----------\n.. [1] Engemann D.A.*, Raimondo F.*, King JR., Rohaut B., Louppe G.,\n       Faugeras F., Annen J., Cassol H., Gosseries O., Fernandez-Slezak D.,\n       Laureys S., Naccache L., Dehaene S. and Sitt J.D. (2018).\n       Robust EEG-based cross-site and cross-protocol classification of\n       states of consciousness. Brain. doi:10.1093/brain/awy251\n\n"
      ]
    },
    {
      "cell_type": "code",
      "execution_count": null,
      "metadata": {
        "collapsed": false
      },
      "outputs": [],
      "source": [
        "# Author: Federico Raimondo <federaimondo@gmail.com>\n\n\nfrom collections import OrderedDict\n\nfrom mne.externals.h5io import read_hdf5, write_hdf5\nfrom mne.io.meas_info import Info\nfrom mne.utils import _TempDir\n\nfrom nice.markers.base import BaseMarker\nfrom nice.collection import register_marker_class\n\nfrom nice.markers import ContingentNegativeVariation\nfrom nice.markers import PermutationEntropy\n\nfrom nice import Markers, read_markers\n\nfrom nice.tests.test_collection import _get_data\n\n\nclass MyCustomMarker(BaseMarker):\n    \"\"\"A custom marker.\"\"\"\n\n    def __init__(self, tmin=None, tmax=None, param1=None, param2=None,\n                 method_params=None, comment='default'):\n        \"\"\"Initialize things.\"\"\"\n        # Call super constructor\n        BaseMarker.__init__(self, tmin=None, tmax=None, comment=comment)\n\n        # Custom marker parameters\n        if method_params is None:\n            method_params = {}\n\n        self.method_params = method_params\n        self.param1 = param1\n        self.param2 = param2\n\n    # MANDATORY: Axis map\n    @property\n    def _axis_map(self):\n        return OrderedDict([\n            ('epochs', 0)\n            ('channels', 1),\n            ('times', 2)\n\n        ])\n\n    def _get_title(self):\n        # MANDATORY: Override _get_title method to use the custom name\n        return _get_title(self.__class__, self.comment)\n\n    def _fit(self, epochs):\n        # MANDATORY: Override _fit method to compute the marker\n        data = epochs.get_data()\n        # Compute something\n        self.data_ = data ** 2\n\n    def save(self, fname, overwrite=False):\n        \"\"\"MANDATORY.\n\n        Save method should be overriden to use the\n        custom title param.\n        \"\"\"\n        self._save_info(fname, overwrite=overwrite)\n        save_vars = self._get_save_vars(exclude=['ch_info_'])\n        write_hdf5(\n            fname,\n            save_vars,\n            title=_get_title(self.__class__, self.comment),\n            overwrite=overwrite, slash='replace')\n\n    @classmethod\n    def _read(cls, fname, comment='default'):\n        # MANDATORY: Read method should be implemented\n        return _read_my_marker(cls, fname=fname, comment=comment)\n\n\ndef _get_title(klass, comment):\n    if issubclass(klass, BaseMarker):\n        kind = 'marker'\n    else:\n        raise NotImplementedError('Oh no-- what is this?')\n    # MANDATORY: Change the package of the title from nice to something else\n    _title = '/'.join([\n        'nice_custom_marker', kind, klass.__name__, comment])\n    return _title\n\n\ndef _read_my_marker(klass, fname, comment='default'):\n    # MANDATORY: This method should work for any marker as it is now.\n    data = read_hdf5(fname,  _get_title(klass, comment), slash='replace')\n    init_params = {k: v for k, v in data.items() if not k.endswith('_')}\n    attrs = {k: v for k, v in data.items() if k.endswith('_')}\n    file_info = read_hdf5(fname, title='nice/data/ch_info', slash='replace')\n    if 'filename' in file_info:\n        del(file_info['filename'])\n    attrs['ch_info_'] = Info(file_info)\n    out = klass(**init_params)\n    for k, v in attrs.items():\n        if k.endswith('_'):\n            setattr(out, k, v)\n    return out\n\n\n# Resgister the marker to NICE\nregister_marker_class(MyCustomMarker)\n\n# Now you can create a collection with nice markers and the custom marker\n\nmarkers_list = [\n    PermutationEntropy(),\n    ContingentNegativeVariation(),\n    MyCustomMarker()\n]\n\nmarkers = Markers(markers_list)\n\n# Fit on test data\nepochs = _get_data()[:2]\nmarkers.fit(epochs)\n\n# Save to a file\ntmp = _TempDir()\ntmp_fname = tmp + '/test-markers.hdf5'\nmarkers.save(tmp_fname)\n\n# Read from file\nmarkers2 = read_markers(tmp_fname)"
      ]
    }
  ],
  "metadata": {
    "kernelspec": {
      "display_name": "Python 3",
      "language": "python",
      "name": "python3"
    },
    "language_info": {
      "codemirror_mode": {
        "name": "ipython",
        "version": 3
      },
      "file_extension": ".py",
      "mimetype": "text/x-python",
      "name": "python",
      "nbconvert_exporter": "python",
      "pygments_lexer": "ipython3",
      "version": "3.6.6"
    }
  },
  "nbformat": 4,
  "nbformat_minor": 0
}