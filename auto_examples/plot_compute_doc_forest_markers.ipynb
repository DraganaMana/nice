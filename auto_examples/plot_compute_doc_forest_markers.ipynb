{
  "cells": [
    {
      "cell_type": "code",
      "execution_count": null,
      "metadata": {
        "collapsed": false
      },
      "outputs": [],
      "source": [
        "%matplotlib inline"
      ]
    },
    {
      "cell_type": "markdown",
      "metadata": {},
      "source": [
        "\n\n# Compute markers used for publication\n\n\nHere we compute the markers used for the diagnosis of DOC patients [1] for\nan EGI recording from a control subject.\n\n\nReferences\n----------\n.. [1] Engemann D.A.*, Raimondo F.*, King JR., Rohaut B., Louppe G.,\n       Faugeras F., Annen J., Cassol H., Gosseries O., Fernandez-Slezak D.,\n       Laureys S., Naccache L., Dehaene S. and Sitt J.D. (2018).\n       Robust EEG-based cross-site and cross-protocol classification of\n       states of consciousness. Brain. doi:10.1093/brain/awy251\n\n"
      ]
    },
    {
      "cell_type": "code",
      "execution_count": null,
      "metadata": {
        "collapsed": false
      },
      "outputs": [],
      "source": [
        "# Authors: Denis A. Engemann <denis.engemann@gmail.com>\n#          Federico Raimondo <federaimondo@gmail.com>\n\nimport os.path as op\nimport mne\n\nimport numpy as np\nimport matplotlib.pyplot as plt\n\nfrom nice import Markers\nfrom nice.markers import (PowerSpectralDensity,\n                          KolmogorovComplexity,\n                          PermutationEntropy,\n                          SymbolicMutualInformation,\n                          PowerSpectralDensitySummary,\n                          PowerSpectralDensityEstimator,\n                          ContingentNegativeVariation,\n                          TimeLockedTopography,\n                          TimeLockedContrast)\n\n\nfname = './data/JSXXX-epo.fif'\nif not op.exists(fname):\n    print('File not present, downloading...')\n    import urllib.request\n    url = 'https://ndownloader.figshare.com/files/13179518'\n    urllib.request.urlretrieve(url, fname)\n    print('Download complete')\n\nepochs = mne.read_epochs(fname, preload=True)\n\n\npsds_params = dict(n_fft=4096, n_overlap=100, n_jobs='auto', nperseg=128)\n\n\nbase_psd = PowerSpectralDensityEstimator(\n    psd_method='welch', tmin=None, tmax=0.6, fmin=1., fmax=45.,\n    psd_params=psds_params, comment='default')\n\n# Note that the psd is shared by all `PowerSpectralDensity` markers.\n# To save time, the PSD will not be re-computed.\n# When making another set of marker, also recompute the base_psd explicitly.\n\n\nm_list = [\n    PowerSpectralDensity(estimator=base_psd, fmin=1., fmax=4.,\n                         normalize=False, comment='delta'),\n    PowerSpectralDensity(estimator=base_psd, fmin=1., fmax=4.,\n                         normalize=True, comment='deltan'),\n    PowerSpectralDensity(estimator=base_psd, fmin=4., fmax=8.,\n                         normalize=False, comment='theta'),\n    PowerSpectralDensity(estimator=base_psd, fmin=4., fmax=8.,\n                         normalize=True, comment='thetan'),\n    PowerSpectralDensity(estimator=base_psd, fmin=8., fmax=12.,\n                         normalize=False, comment='alpha'),\n    PowerSpectralDensity(estimator=base_psd, fmin=8., fmax=12.,\n                         normalize=True, comment='alphan'),\n    PowerSpectralDensity(estimator=base_psd, fmin=12., fmax=30.,\n                         normalize=False, comment='beta'),\n    PowerSpectralDensity(estimator=base_psd, fmin=12., fmax=30.,\n                         normalize=True, comment='betan'),\n    PowerSpectralDensity(estimator=base_psd, fmin=30., fmax=45.,\n                         normalize=False, comment='gamma'),\n    PowerSpectralDensity(estimator=base_psd, fmin=30., fmax=45.,\n                         normalize=True, comment='gamman'),\n\n    PowerSpectralDensity(estimator=base_psd, fmin=1., fmax=45.,\n                         normalize=True, comment='summary_se'),\n    PowerSpectralDensitySummary(estimator=base_psd, fmin=1., fmax=45.,\n                                percentile=.5, comment='summary_msf'),\n    PowerSpectralDensitySummary(estimator=base_psd, fmin=1., fmax=45.,\n                                percentile=.9, comment='summary_sef90'),\n    PowerSpectralDensitySummary(estimator=base_psd, fmin=1., fmax=45.,\n                                percentile=.95, comment='summary_sef95'),\n\n    PermutationEntropy(tmin=None, tmax=0.6, backend='c'),\n\n    SymbolicMutualInformation(\n        tmin=None, tmax=0.6, method='weighted', backend='openmp',\n        method_params={'nthreads': 'auto'}, comment='weighted'),\n\n    KolmogorovComplexity(tmin=None, tmax=0.6, backend='openmp',\n                         method_params={'nthreads': 'auto'}),\n\n    # Evokeds\n    ContingentNegativeVariation(tmin=-0.004, tmax=0.596),\n\n    TimeLockedTopography(tmin=0.064, tmax=0.112, comment='p1'),\n    TimeLockedTopography(tmin=0.876, tmax=0.936, comment='p3a'),\n    TimeLockedTopography(tmin=0.996, tmax=1.196, comment='p3b'),\n\n    TimeLockedContrast(tmin=None, tmax=None, condition_a='LSGS',\n                       condition_b='LDGD', comment='LSGS-LDGD'),\n\n    TimeLockedContrast(tmin=None, tmax=None, condition_a='LSGD',\n                       condition_b='LDGS', comment='LSGD-LDGS'),\n\n    TimeLockedContrast(tmin=None, tmax=None, condition_a=['LDGS', 'LDGD'],\n                       condition_b=['LSGS', 'LSGD'], comment='LD-LS'),\n\n    TimeLockedContrast(tmin=0.736, tmax=0.788, condition_a=['LDGS', 'LDGD'],\n                       condition_b=['LSGS', 'LSGD'], comment='mmn'),\n\n    TimeLockedContrast(tmin=0.876, tmax=0.936, condition_a=['LDGS', 'LDGD'],\n                       condition_b=['LSGS', 'LSGD'], comment='p3a'),\n\n    TimeLockedContrast(tmin=None, tmax=None, condition_a=['LSGD', 'LDGD'],\n                       condition_b=['LSGS', 'LDGS'], comment='GD-GS'),\n\n    TimeLockedContrast(tmin=0.996, tmax=1.196, condition_a=['LSGD', 'LDGD'],\n                       condition_b=['LSGS', 'LDGS'], comment='p3b')\n]\n\nmc = Markers(m_list)\n\nmc.fit(epochs)\nmc.save('data/JSXXX-markers.hdf5', overwrite=True)"
      ]
    },
    {
      "cell_type": "markdown",
      "metadata": {},
      "source": [
        "Let's explore a bit the PSDs used for the marker computation\n\n"
      ]
    },
    {
      "cell_type": "code",
      "execution_count": null,
      "metadata": {
        "collapsed": false
      },
      "outputs": [],
      "source": [
        "psd = base_psd.data_\nfreqs = base_psd.freqs_\n\nplt.figure()\nplt.semilogy(freqs, np.mean(psd, axis=0).T, alpha=0.1, color='black')\nplt.xlim(2, 40)\nplt.ylabel('log(psd)')\nplt.xlabel('Frequency [Hz]')\nplt.show()\n# We clearly see alpha and beta band peaks."
      ]
    }
  ],
  "metadata": {
    "kernelspec": {
      "display_name": "Python 3",
      "language": "python",
      "name": "python3"
    },
    "language_info": {
      "codemirror_mode": {
        "name": "ipython",
        "version": 3
      },
      "file_extension": ".py",
      "mimetype": "text/x-python",
      "name": "python",
      "nbconvert_exporter": "python",
      "pygments_lexer": "ipython3",
      "version": "3.6.6"
    }
  },
  "nbformat": 4,
  "nbformat_minor": 0
}